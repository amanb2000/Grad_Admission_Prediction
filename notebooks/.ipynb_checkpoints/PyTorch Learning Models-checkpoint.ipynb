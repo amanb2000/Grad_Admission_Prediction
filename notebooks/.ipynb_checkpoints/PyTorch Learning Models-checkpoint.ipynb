{
 "cells": [
  {
   "cell_type": "code",
   "execution_count": 183,
   "metadata": {},
   "outputs": [],
   "source": [
    "# Torch Dependencies\n",
    "import torch\n",
    "import torch.nn as nn\n",
    "import matplotlib.pyplot as plt\n",
    "import numpy as np\n",
    "from tqdm import tqdm\n",
    "from torch.autograd import Variable\n",
    "\n",
    "# Importing Other Dependencies\n",
    "import csv\n",
    "import random"
   ]
  },
  {
   "cell_type": "code",
   "execution_count": 184,
   "metadata": {},
   "outputs": [],
   "source": [
    "# Load the diabetes dataset\n",
    "dataIn = csv.reader(open('../dataset/Admission_Predict_Ver1.1.csv'), delimiter=\",\")"
   ]
  },
  {
   "cell_type": "code",
   "execution_count": 185,
   "metadata": {},
   "outputs": [],
   "source": [
    "def scale(n_arr_in):\n",
    "    for i in range(len(n_arr_in[0])):\n",
    "        max_ind_in_column_i = n_arr_in[:,i].argmax()\n",
    "        n_arr_in[:, i] = n_arr_in[:, i]*(1/(n_arr_in[max_ind_in_column_i,i]))\n",
    "    \n",
    "    return n_arr_in"
   ]
  },
  {
   "cell_type": "code",
   "execution_count": 186,
   "metadata": {},
   "outputs": [],
   "source": [
    "# Format the data\n",
    "listIn = list(dataIn)\n",
    "\n",
    "titles = listIn[0]\n",
    "titles = titles[1:]\n",
    "\n",
    "listIn = listIn[1:]\n",
    "\n",
    "random.shuffle(listIn)\n",
    "\n",
    "n_arr_in = (np.array(listIn))\n",
    "n_arr_in = n_arr_in.astype(np.float)\n",
    "\n",
    "# FEATURE SCALING!\n",
    "n_arr_in = scale(n_arr_in)\n",
    "\n",
    "n_arr_in = n_arr_in[:, 1:]\n",
    "\n",
    "X_train = n_arr_in[0:400, 0:7]\n",
    "Y_train = n_arr_in[0:400, 7]\n",
    "\n",
    "X_test = n_arr_in[401:, 0:7]\n",
    "Y_test = n_arr_in[401:, 7]\n",
    "\n",
    "tensor_X = torch.Tensor(X_train)\n",
    "tensor_y = torch.Tensor(Y_train)\n",
    "testor_X = torch.Tensor(X_test)\n",
    "testor_y = torch.Tensor(Y_test)\n",
    "\n",
    "Variable_X = Variable(torch.Tensor(X_train))\n",
    "Variable_y = Variable(torch.Tensor(Y_train))"
   ]
  },
  {
   "cell_type": "code",
   "execution_count": 187,
   "metadata": {},
   "outputs": [],
   "source": [
    "class Simple_Net(nn.Module):\n",
    "\tdef __init__(self, input_size, hidden_size, num_classes):\n",
    "\t\tsuper(Simple_Net, self).__init__()\n",
    "\t\tself.fc1 = nn.Linear(input_size, hidden_size)\n",
    "\t\tself.relu1 = nn.ReLU()\n",
    "\t\tself.fc2 = nn.Linear(hidden_size, num_classes)\n",
    "\n",
    "\tdef forward(self, x):\n",
    "\t\tout = self.fc1(x)\n",
    "\t\tout = self.relu1(out)\n",
    "\t\tout = self.fc2(out)\n",
    "\t\treturn out"
   ]
  },
  {
   "cell_type": "code",
   "execution_count": 188,
   "metadata": {},
   "outputs": [],
   "source": [
    "def accuracy(out, labels):\n",
    "\toutputs = np.argmax(out, axis=1)\n",
    "\treturn np.sum(outputs==labels)/float(labels.size)"
   ]
  },
  {
   "cell_type": "code",
   "execution_count": 189,
   "metadata": {},
   "outputs": [],
   "source": [
    "def test_model(simple_rick, testor_y, testor_X, tensor_y, tensor_X):\n",
    "\ttotal = 0\n",
    "\tcorrect = 0\n",
    "\n",
    "\tfor i in range(list(testor_y.size())[0]):\n",
    "\t\tnn_output = simple_rick(testor_X[i])\n",
    "\t\tind = torch.argmax(nn_output)\n",
    "\t\ttotal += 1\n",
    "\t\tif ind == testor_y[i]:\n",
    "\t\t\tcorrect += 1\n",
    "\n",
    "\tprint(\"The final accuracy on validation set was: \",correct/total)\n",
    "\tvalidation_accuracy = correct/total\n",
    "\tprint(\"Now testing on Training Set: \")\n",
    "\ttotal = 0\n",
    "\tcorrect = 0\n",
    "\n",
    "\tfor i in range(list(tensor_y.size())[0]):\n",
    "\t\tnn_output = simple_rick(tensor_X[i])\n",
    "\t\tind = torch.argmax(nn_output)\n",
    "\t\ttotal += 1\n",
    "\t\tif ind == tensor_y[i]:\n",
    "\t\t\tcorrect += 1\n",
    "\n",
    "\tprint(\"The final accuracy on training set was: \",correct/total)\n",
    "\ttrain_accuracy = correct/total\n",
    "\n",
    "\treturn [validation_accuracy, train_accuracy]"
   ]
  },
  {
   "cell_type": "code",
   "execution_count": 190,
   "metadata": {},
   "outputs": [],
   "source": [
    "simple_rick = Simple_Net(7, 10, 1)"
   ]
  },
  {
   "cell_type": "code",
   "execution_count": 191,
   "metadata": {},
   "outputs": [],
   "source": [
    "# loss_fn = nn.CrossEntropyLoss()\n",
    "loss_fn = nn.MSELoss()\n",
    "\n",
    "learning_rate = 0.01\n",
    "\n",
    "optimizer = torch.optim.SGD(simple_rick.parameters(), lr=learning_rate, nesterov=True, momentum = 0.9, dampening = 0)"
   ]
  },
  {
   "cell_type": "code",
   "execution_count": 192,
   "metadata": {},
   "outputs": [],
   "source": [
    "train_loss = []\n",
    "test_loss = []\n",
    "train_accuracy = []\n",
    "test_accuracy = []\n",
    "\n",
    "num_epochs = 100"
   ]
  },
  {
   "cell_type": "code",
   "execution_count": 193,
   "metadata": {},
   "outputs": [
    {
     "name": "stdout",
     "output_type": "stream",
     "text": [
      "==========0==========\n",
      "Loss:  0.2390103042125702\n",
      "==========10==========\n",
      "Loss:  0.029016656801104546\n",
      "==========20==========\n",
      "Loss:  0.025480488315224648\n",
      "==========30==========\n",
      "Loss:  0.024070819839835167\n",
      "==========40==========\n",
      "Loss:  0.021823449060320854\n",
      "==========50==========\n",
      "Loss:  0.02170463092625141\n",
      "==========60==========\n",
      "Loss:  0.021565904840826988\n",
      "==========70==========\n",
      "Loss:  0.021485967561602592\n",
      "==========80==========\n",
      "Loss:  0.02144542895257473\n",
      "==========90==========\n",
      "Loss:  0.021415021270513535\n"
     ]
    }
   ],
   "source": [
    "for epoch in range(num_epochs):\n",
    "    simple_rick.train()\n",
    "    optimizer.zero_grad()\n",
    "\n",
    "    pred_y = simple_rick(Variable_X)\n",
    "#     print(type(pred_y))\n",
    "    loss = loss_fn(pred_y, Variable_y)\n",
    "    loss.backward()\n",
    "    optimizer.step()\n",
    "\n",
    "    simple_rick.eval()\n",
    "    train_loss.append(float(loss.data))\n",
    "    \n",
    "    if(epoch%10 == 0):\n",
    "        print(\"==========\"+str(epoch)+\"==========\")\n",
    "        print(\"Loss: \",float(loss))\n",
    "\n",
    "\n",
    "#     test_results = test_model(simple_rick, testor_y, testor_X, tensor_y, tensor_X)\n",
    "\n",
    "#     train_accuracy.append(test_results[1])\n",
    "#     test_accuracy.append(test_results[0])"
   ]
  }
 ],
 "metadata": {
  "kernelspec": {
   "display_name": "Python 3",
   "language": "python",
   "name": "python3"
  },
  "language_info": {
   "codemirror_mode": {
    "name": "ipython",
    "version": 3
   },
   "file_extension": ".py",
   "mimetype": "text/x-python",
   "name": "python",
   "nbconvert_exporter": "python",
   "pygments_lexer": "ipython3",
   "version": "3.7.1"
  }
 },
 "nbformat": 4,
 "nbformat_minor": 2
}
