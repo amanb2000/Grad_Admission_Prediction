{
 "cells": [
  {
   "cell_type": "markdown",
   "metadata": {},
   "source": [
    "# What This Is\n",
    "In this notebook, I will be training several scikit learn models to gain a preliminary understanding of the dataset. Following that, I will be training some more customized models with PyTorch in a separate notebook.\n",
    "## Purpose\n",
    "The goal here is to understand the dataset and what I should expect from models I train in the future. For this reason, data visualization is a prime focus.\n",
    "\n",
    "## About the Data Set\n",
    "The data set is from [Kaggle](https://www.kaggle.com/mohansacharya/graduate-admissions#Admission_Predict_Ver1.1.csv). It has 7 features, namely: \n",
    "-1. Student index (non-predictive)\n",
    "0. GRE Score\n",
    "1. TOEFL Score\n",
    "2. Univeristy Rating\n",
    "3. SOP (Statement of Purpose)\n",
    "4. LOR (Letters of Recommendation)\n",
    "5. CGPA\n",
    "6. Research\n",
    "7. Chance of Admission\n",
    "\n",
    "## Procedure\n",
    "\n",
    "\n",
    "## Outcomes\n",
    "### Linear Regression\n"
   ]
  },
  {
   "cell_type": "code",
   "execution_count": 54,
   "metadata": {},
   "outputs": [],
   "source": [
    "# Importing Dependencies\n",
    "import matplotlib.pyplot as plt\n",
    "import numpy as np\n",
    "from sklearn import datasets, linear_model\n",
    "from sklearn.metrics import mean_squared_error, r2_score\n",
    "import csv"
   ]
  },
  {
   "cell_type": "code",
   "execution_count": 55,
   "metadata": {},
   "outputs": [],
   "source": [
    "# Load the diabetes dataset\n",
    "dataIn = csv.reader(open('../dataset/Admission_Predict_Ver1.1.csv'), delimiter=\",\")"
   ]
  },
  {
   "cell_type": "code",
   "execution_count": 56,
   "metadata": {},
   "outputs": [],
   "source": [
    "# Format the data\n",
    "\n",
    "listIn = list(dataIn)\n",
    "\n",
    "titles = listIn[0]\n",
    "titles = titles[1:]\n",
    "n_arr_in = (np.array(listIn))[1:]\n",
    "n_arr_in = n_arr_in.astype(np.float)\n",
    "n_arr_in = n_arr_in[:, 1:]\n",
    "\n",
    "X_train = n_arr_in[0:400, 0:7]\n",
    "Y_train = n_arr_in[0:400, 7]\n",
    "\n",
    "X_test = n_arr_in[401:, 0:7]\n",
    "Y_test = n_arr_in[401:, 7]"
   ]
  },
  {
   "cell_type": "code",
   "execution_count": 74,
   "metadata": {},
   "outputs": [
    {
     "name": "stdout",
     "output_type": "stream",
     "text": [
      "Mean squared error on Validation Set:  0.001855632448497125\n",
      "Variance score: 0.88\n",
      "Parameters of Linear Regression Model:  [ 0.01460753  0.02454675  0.0480636  -0.02778867  0.18793703  1.\n",
      "  0.20619824]\n"
     ]
    }
   ],
   "source": [
    "# Create and train linear regression object\n",
    "regr = linear_model.LinearRegression()\n",
    "\n",
    "# Train model\n",
    "regr.fit(X_train, Y_train)\n",
    "\n",
    "# Test model\n",
    "Y_pred = regr.predict(X_test)\n",
    "\n",
    "print(\"Mean squared error on Validation Set: \",mse[0])\n",
    "print('Variance score: %.2f' % r2_score(Y_pred, Y_test))\n",
    "\n",
    "print(\"Parameters of Linear Regression Model: \",(1/(regr.coef_[5]))*regr.coef_)\n",
    "\n"
   ]
  },
  {
   "cell_type": "code",
   "execution_count": null,
   "metadata": {},
   "outputs": [],
   "source": []
  }
 ],
 "metadata": {
  "kernelspec": {
   "display_name": "Python 3",
   "language": "python",
   "name": "python3"
  },
  "language_info": {
   "codemirror_mode": {
    "name": "ipython",
    "version": 3
   },
   "file_extension": ".py",
   "mimetype": "text/x-python",
   "name": "python",
   "nbconvert_exporter": "python",
   "pygments_lexer": "ipython3",
   "version": "3.7.1"
  }
 },
 "nbformat": 4,
 "nbformat_minor": 2
}
