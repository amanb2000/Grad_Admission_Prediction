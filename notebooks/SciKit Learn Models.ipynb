{
 "cells": [
  {
   "cell_type": "markdown",
   "metadata": {},
   "source": [
    "# What This Is\n",
    "In this notebook, I will be training several scikit learn models to gain a preliminary understanding of the dataset. Following that, I will be training some more customized models with PyTorch in a separate notebook.\n",
    "## Purpose\n",
    "The goal here is to understand the dataset and what I should expect from models I train in the future. For this reason, data visualization is a prime focus.\n",
    "\n",
    "## About the Data Set\n",
    "The data set is from [Kaggle](https://www.kaggle.com/mohansacharya/graduate-admissions#Admission_Predict_Ver1.1.csv). It has 7 features, namely: \n",
    "-1. Student index (non-predictive)\n",
    "0. GRE Score\n",
    "1. TOEFL Score\n",
    "2. Univeristy Rating\n",
    "3. SOP (Statement of Purpose)\n",
    "4. LOR (Letters of Recommendation)\n",
    "5. CGPA\n",
    "6. Research\n",
    "7. Chance of Admission\n",
    "\n",
    "## Procedure\n",
    "\n",
    "\n",
    "## Outcomes\n",
    "### Linear Regression\n",
    "The final squared error of a linear regression was `0.00186`. This is incredibly low and implies high linearity \n"
   ]
  },
  {
   "cell_type": "code",
   "execution_count": 75,
   "metadata": {},
   "outputs": [],
   "source": [
    "# Importing Dependencies\n",
    "import matplotlib.pyplot as plt\n",
    "import numpy as np\n",
    "from sklearn import datasets, linear_model\n",
    "from sklearn.metrics import mean_squared_error, r2_score\n",
    "import csv\n",
    "from sklearn import svm\n",
    "from sklearn import neural_network\n",
    "import random"
   ]
  },
  {
   "cell_type": "code",
   "execution_count": 76,
   "metadata": {},
   "outputs": [],
   "source": [
    "# Load the admissions dataset\n",
    "dataIn = csv.reader(open('../dataset/Admission_Predict_Ver1.1.csv'), delimiter=\",\")"
   ]
  },
  {
   "cell_type": "code",
   "execution_count": 77,
   "metadata": {},
   "outputs": [],
   "source": [
    "def scale(n_arr_in):\n",
    "    for i in range(len(n_arr_in[0])):\n",
    "        max_ind_in_column_i = n_arr_in[:,i].argmax()\n",
    "        n_arr_in[:, i] = n_arr_in[:, i]*(1/(n_arr_in[max_ind_in_column_i,i]))\n",
    "    \n",
    "    return n_arr_in"
   ]
  },
  {
   "cell_type": "code",
   "execution_count": 78,
   "metadata": {},
   "outputs": [
    {
     "name": "stdout",
     "output_type": "stream",
     "text": [
      "Width of X:  (400, 7)\n"
     ]
    }
   ],
   "source": [
    "# Format the data\n",
    "listIn = list(dataIn)\n",
    "\n",
    "titles = listIn[0]\n",
    "titles = titles[1:]\n",
    "\n",
    "listIn = listIn[1:]\n",
    "\n",
    "random.shuffle(listIn)\n",
    "\n",
    "n_arr_in = (np.array(listIn))\n",
    "n_arr_in = n_arr_in.astype(np.float)\n",
    "\n",
    "# FEATURE SCALING!\n",
    "n_arr_in = scale(n_arr_in)\n",
    "# i = 1\n",
    "\n",
    "# max_ind_in_column_i = n_arr_in[:,i].argmax()\n",
    "\n",
    "# print(n_arr_in[max_ind_in_column_i,i])\n",
    "\n",
    "\n",
    "n_arr_in = n_arr_in[:, 1:]\n",
    "\n",
    "X_train = n_arr_in[0:400, 0:7]\n",
    "Y_train = n_arr_in[0:400, 7]\n",
    "\n",
    "X_test = n_arr_in[401:, 0:7]\n",
    "Y_test = n_arr_in[401:, 7]\n",
    "\n",
    "# print(X_train[0:10])\n",
    "\n",
    "print(\"Width of X: \", X_train.shape)"
   ]
  },
  {
   "cell_type": "code",
   "execution_count": 54,
   "metadata": {},
   "outputs": [
    {
     "name": "stdout",
     "output_type": "stream",
     "text": [
      "Mean squared error on Validation Set:  0.0037070163945316257\n",
      "Variance score: 0.76\n",
      "Mean squared error on Training Set:  0.0038070964465992\n",
      "Parameters of Linear Regression Model (Scaled):  [0.64855689 0.27712119 0.01822578 0.00732872 0.09663965 1.\n",
      " 0.02046709]\n",
      "Parameters of Linear Regression Model (Unscaled):  [0.74982793 0.32039319 0.02107171 0.00847309 0.11172977 1.15614829\n",
      " 0.02366299]\n"
     ]
    }
   ],
   "source": [
    "# Create and train linear regression object\n",
    "regr = linear_model.LinearRegression()\n",
    "\n",
    "# Train model\n",
    "regr.fit(X_train, Y_train)\n",
    "\n",
    "# Test model\n",
    "Y_pred = regr.predict(X_test)\n",
    "\n",
    "mse = mean_squared_error(Y_pred, Y_test)\n",
    "\n",
    "print(\"Mean squared error on Validation Set: \",mse)\n",
    "print('Variance score: %.2f' % r2_score(Y_pred, Y_test))\n",
    "\n",
    "Y_pred = regr.predict(X_train)\n",
    "\n",
    "mse = mean_squared_error(Y_pred, Y_train)\n",
    "\n",
    "print(\"Mean squared error on Training Set: \", mse)\n",
    "\n",
    "print(\"Parameters of Linear Regression Model (Scaled): \",(1/(regr.coef_[regr.coef_.argmax()]))*regr.coef_)\n",
    "print(\"Parameters of Linear Regression Model (Unscaled): \",(regr.coef_))\n",
    "\n"
   ]
  },
  {
   "cell_type": "code",
   "execution_count": 55,
   "metadata": {},
   "outputs": [
    {
     "name": "stdout",
     "output_type": "stream",
     "text": [
      "Mean squared error on Validation Set:  0.005650069871274159\n",
      "Variance score: 0.54\n",
      "Mean squared error on Training Set:  0.004918569995789065\n"
     ]
    }
   ],
   "source": [
    "# Create and train svm regression object\n",
    "clf = svm.SVR(C=10,kernel='linear')\n",
    "\n",
    "# Train model\n",
    "clf.fit(X_train, Y_train)\n",
    "\n",
    "# Test model\n",
    "Y_pred = clf.predict(X_test)\n",
    "\n",
    "# print(\"Y_pred: \",Y_pred[0:10])\n",
    "# print(\"Y_test: \",Y_test[0:10])\n",
    "\n",
    "mse = mean_squared_error(Y_pred, Y_test)\n",
    "\n",
    "print(\"Mean squared error on Validation Set: \",mse)\n",
    "print('Variance score: %.2f' % r2_score(Y_pred, Y_test))\n",
    "\n",
    "Y_pred = clf.predict(X_train)\n",
    "\n",
    "# print(\"Y_pred: \",Y_pred[0:10])\n",
    "# print(\"Y_test: \",Y_test[0:10])\n",
    "\n",
    "mse = mean_squared_error(Y_pred, Y_train)\n",
    "\n",
    "print(\"Mean squared error on Training Set: \",mse)\n",
    "\n",
    "\n"
   ]
  },
  {
   "cell_type": "code",
   "execution_count": 56,
   "metadata": {},
   "outputs": [
    {
     "name": "stdout",
     "output_type": "stream",
     "text": [
      "Mean squared error on Validation Set:  0.0067424699813210635\n",
      "Mean squared error on Training Set:  0.006692534260671812\n",
      "Variance score: 0.41\n"
     ]
    }
   ],
   "source": [
    "# Create and train linear regression object\n",
    "regr = neural_network.MLPRegressor(hidden_layer_sizes=(100,500))\n",
    "\n",
    "# Train model\n",
    "regr.fit(X_train, Y_train)\n",
    "\n",
    "# Test model\n",
    "Y_pred = regr.predict(X_test)\n",
    "\n",
    "mse = mean_squared_error(Y_pred, Y_test)\n",
    "\n",
    "print(\"Mean squared error on Validation Set: \",mse)\n",
    "\n",
    "# Test model on Training Set\n",
    "Y_pred = regr.predict(X_train)\n",
    "\n",
    "mse = mean_squared_error(Y_pred, Y_train)\n",
    "\n",
    "print(\"Mean squared error on Training Set: \",mse)\n",
    "\n",
    "Y_pred = regr.predict(X_test)\n",
    "\n",
    "print('Variance score: %.2f' % r2_score(Y_pred, Y_test))\n"
   ]
  }
 ],
 "metadata": {
  "kernelspec": {
   "display_name": "Python 3",
   "language": "python",
   "name": "python3"
  },
  "language_info": {
   "codemirror_mode": {
    "name": "ipython",
    "version": 3
   },
   "file_extension": ".py",
   "mimetype": "text/x-python",
   "name": "python",
   "nbconvert_exporter": "python",
   "pygments_lexer": "ipython3",
   "version": "3.7.1"
  }
 },
 "nbformat": 4,
 "nbformat_minor": 2
}
